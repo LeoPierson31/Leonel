{
 "cells": [
  {
   "cell_type": "markdown",
   "id": "f0e4df32",
   "metadata": {},
   "source": [
    "# Multiple linear regression"
   ]
  },
  {
   "cell_type": "markdown",
   "id": "77c4064f",
   "metadata": {},
   "source": [
    "Throughout the following exercises, you will learn to use Python to build a multiple linear regression model. Before starting on this programming exercise, we strongly recommend watching the video lecture and completing the IVQ for the associated topics.\n",
    "\n",
    "All the information you need for solving this assignment is in this notebook, and all the code you will be implementing will take place within this notebook.\n",
    "\n",
    "As we move forward, you can find instructions on how to install required libraries as they arise in this notebook. Before we begin with the exercises and analyzing the data, we need to import all libraries and extensions required for this programming exercise. Throughout the course, we will be using pandas and statsmodels for operations, and seaborn for plotting."
   ]
  },
  {
   "cell_type": "code",
   "execution_count": null,
   "id": "6d028b4f",
   "metadata": {},
   "outputs": [],
   "source": [
    "Relevant imports¶\n",
    "Begin by importing the relevant packages and data."
   ]
  },
  {
   "cell_type": "code",
   "execution_count": 1,
   "id": "4405388d",
   "metadata": {},
   "outputs": [],
   "source": [
    "# Import packages\n",
    "import pandas as pd\n",
    "import seaborn as sns"
   ]
  },
  {
   "cell_type": "code",
   "execution_count": 2,
   "id": "1c1d9ba5",
   "metadata": {},
   "outputs": [
    {
     "data": {
      "text/html": [
       "<div>\n",
       "<style scoped>\n",
       "    .dataframe tbody tr th:only-of-type {\n",
       "        vertical-align: middle;\n",
       "    }\n",
       "\n",
       "    .dataframe tbody tr th {\n",
       "        vertical-align: top;\n",
       "    }\n",
       "\n",
       "    .dataframe thead th {\n",
       "        text-align: right;\n",
       "    }\n",
       "</style>\n",
       "<table border=\"1\" class=\"dataframe\">\n",
       "  <thead>\n",
       "    <tr style=\"text-align: right;\">\n",
       "      <th></th>\n",
       "      <th>species</th>\n",
       "      <th>island</th>\n",
       "      <th>bill_length_mm</th>\n",
       "      <th>bill_depth_mm</th>\n",
       "      <th>flipper_length_mm</th>\n",
       "      <th>body_mass_g</th>\n",
       "      <th>sex</th>\n",
       "    </tr>\n",
       "  </thead>\n",
       "  <tbody>\n",
       "    <tr>\n",
       "      <th>0</th>\n",
       "      <td>Adelie</td>\n",
       "      <td>Torgersen</td>\n",
       "      <td>39.1</td>\n",
       "      <td>18.7</td>\n",
       "      <td>181.0</td>\n",
       "      <td>3750.0</td>\n",
       "      <td>Male</td>\n",
       "    </tr>\n",
       "    <tr>\n",
       "      <th>1</th>\n",
       "      <td>Adelie</td>\n",
       "      <td>Torgersen</td>\n",
       "      <td>39.5</td>\n",
       "      <td>17.4</td>\n",
       "      <td>186.0</td>\n",
       "      <td>3800.0</td>\n",
       "      <td>Female</td>\n",
       "    </tr>\n",
       "    <tr>\n",
       "      <th>2</th>\n",
       "      <td>Adelie</td>\n",
       "      <td>Torgersen</td>\n",
       "      <td>40.3</td>\n",
       "      <td>18.0</td>\n",
       "      <td>195.0</td>\n",
       "      <td>3250.0</td>\n",
       "      <td>Female</td>\n",
       "    </tr>\n",
       "    <tr>\n",
       "      <th>3</th>\n",
       "      <td>Adelie</td>\n",
       "      <td>Torgersen</td>\n",
       "      <td>NaN</td>\n",
       "      <td>NaN</td>\n",
       "      <td>NaN</td>\n",
       "      <td>NaN</td>\n",
       "      <td>NaN</td>\n",
       "    </tr>\n",
       "    <tr>\n",
       "      <th>4</th>\n",
       "      <td>Adelie</td>\n",
       "      <td>Torgersen</td>\n",
       "      <td>36.7</td>\n",
       "      <td>19.3</td>\n",
       "      <td>193.0</td>\n",
       "      <td>3450.0</td>\n",
       "      <td>Female</td>\n",
       "    </tr>\n",
       "  </tbody>\n",
       "</table>\n",
       "</div>"
      ],
      "text/plain": [
       "  species     island  bill_length_mm  bill_depth_mm  flipper_length_mm  \\\n",
       "0  Adelie  Torgersen            39.1           18.7              181.0   \n",
       "1  Adelie  Torgersen            39.5           17.4              186.0   \n",
       "2  Adelie  Torgersen            40.3           18.0              195.0   \n",
       "3  Adelie  Torgersen             NaN            NaN                NaN   \n",
       "4  Adelie  Torgersen            36.7           19.3              193.0   \n",
       "\n",
       "   body_mass_g     sex  \n",
       "0       3750.0    Male  \n",
       "1       3800.0  Female  \n",
       "2       3250.0  Female  \n",
       "3          NaN     NaN  \n",
       "4       3450.0  Female  "
      ]
     },
     "execution_count": 2,
     "metadata": {},
     "output_type": "execute_result"
    }
   ],
   "source": [
    "# Load dataset\n",
    "penguins = sns.load_dataset(\"penguins\", cache=False)\n",
    "\n",
    "# Examine first 5 rows of dataset\n",
    "penguins.head()"
   ]
  },
  {
   "cell_type": "markdown",
   "id": "8fc44e93",
   "metadata": {},
   "source": [
    "Note: Recall that the default for head() is to show the first 5 rows. If you change the value for n, you can show more rows. For example, the command penguins.head(3) will show 3 rows.\n",
    "\n",
    "From the first 5 rows of the dataset, we can see that there are several columns available: species, island, bill_length_mm, bill_depth_mm, flipper_length_mm, body_mass_g, and sex. There also appears to be some missing data."
   ]
  },
  {
   "cell_type": "markdown",
   "id": "318b6cf3",
   "metadata": {},
   "source": [
    "# Data cleaning (not shown in video)\n",
    "Clean the dataset by subsetting for specific columns, renaming columns, dropping rows with missing values, and resetting the index. For the purposes of this exercise, we will be focusing on the body_mass_g, bill_length_mm, sex, and species columns. In a work setting, you will need to make careful decisions about which variables to include or exclude. Later in this course, we will cover some of the techniques for variable selection. For now, our focus in just on building the model, and evaluating and interpreting the results.\n",
    "\n",
    "Note: For the purposes of this exercise, we did not examine the data thoroughly before dropping rows with missing data. In a work setting, you would typically examine the data more thoroughly before deciding how to handle missing data (i.e., fill in, drop, etc.). Please refer back to previous program content if you need to review how to handle missing data."
   ]
  },
  {
   "cell_type": "code",
   "execution_count": 3,
   "id": "a739f912",
   "metadata": {},
   "outputs": [],
   "source": [
    "# Subset data\n",
    "penguins = penguins[[\"body_mass_g\", \"bill_length_mm\", \"sex\", \"species\"]]\n",
    "\n",
    "# Rename columns\n",
    "penguins.columns = [\"body_mass_g\", \"bill_length_mm\", \"gender\", \"species\"]\n",
    "\n",
    "# Drop rows with missing values\n",
    "penguins.dropna(inplace=True)\n",
    "\n",
    "# Reset index\n",
    "penguins.reset_index(inplace=True, drop=True)"
   ]
  },
  {
   "cell_type": "markdown",
   "id": "0ba6d15e",
   "metadata": {},
   "source": [
    "You can review the documentation for dropna() and reset_index(). In short, the dropna() function by default removes any rows with any missing values in any of the columns. The reset_index() function resets the index values for the rows in the dataframe. Typically, you use reset_index() after you've finished manipulating the dataset. By setting inplace=True, you will not create a new DataFrame object. By setting drop=True, you will not insert a new index column into the DataFrame object."
   ]
  },
  {
   "cell_type": "code",
   "execution_count": 5,
   "id": "61a79cda",
   "metadata": {},
   "outputs": [
    {
     "data": {
      "text/html": [
       "<div>\n",
       "<style scoped>\n",
       "    .dataframe tbody tr th:only-of-type {\n",
       "        vertical-align: middle;\n",
       "    }\n",
       "\n",
       "    .dataframe tbody tr th {\n",
       "        vertical-align: top;\n",
       "    }\n",
       "\n",
       "    .dataframe thead th {\n",
       "        text-align: right;\n",
       "    }\n",
       "</style>\n",
       "<table border=\"1\" class=\"dataframe\">\n",
       "  <thead>\n",
       "    <tr style=\"text-align: right;\">\n",
       "      <th></th>\n",
       "      <th>body_mass_g</th>\n",
       "      <th>bill_length_mm</th>\n",
       "      <th>gender</th>\n",
       "      <th>species</th>\n",
       "    </tr>\n",
       "  </thead>\n",
       "  <tbody>\n",
       "    <tr>\n",
       "      <th>0</th>\n",
       "      <td>3750.0</td>\n",
       "      <td>39.1</td>\n",
       "      <td>Male</td>\n",
       "      <td>Adelie</td>\n",
       "    </tr>\n",
       "    <tr>\n",
       "      <th>1</th>\n",
       "      <td>3800.0</td>\n",
       "      <td>39.5</td>\n",
       "      <td>Female</td>\n",
       "      <td>Adelie</td>\n",
       "    </tr>\n",
       "    <tr>\n",
       "      <th>2</th>\n",
       "      <td>3250.0</td>\n",
       "      <td>40.3</td>\n",
       "      <td>Female</td>\n",
       "      <td>Adelie</td>\n",
       "    </tr>\n",
       "    <tr>\n",
       "      <th>3</th>\n",
       "      <td>3450.0</td>\n",
       "      <td>36.7</td>\n",
       "      <td>Female</td>\n",
       "      <td>Adelie</td>\n",
       "    </tr>\n",
       "    <tr>\n",
       "      <th>4</th>\n",
       "      <td>3650.0</td>\n",
       "      <td>39.3</td>\n",
       "      <td>Male</td>\n",
       "      <td>Adelie</td>\n",
       "    </tr>\n",
       "  </tbody>\n",
       "</table>\n",
       "</div>"
      ],
      "text/plain": [
       "   body_mass_g  bill_length_mm  gender species\n",
       "0       3750.0            39.1    Male  Adelie\n",
       "1       3800.0            39.5  Female  Adelie\n",
       "2       3250.0            40.3  Female  Adelie\n",
       "3       3450.0            36.7  Female  Adelie\n",
       "4       3650.0            39.3    Male  Adelie"
      ]
     },
     "execution_count": 5,
     "metadata": {},
     "output_type": "execute_result"
    }
   ],
   "source": [
    "# Examine first 5 rows of data\n",
    "penguins.head()"
   ]
  },
  {
   "cell_type": "markdown",
   "id": "dd28e4bf",
   "metadata": {},
   "source": [
    "Earlier, you learned about creating a holdout sample to better test and evaluate the results of your regression model. In order to do this more easily in Python, you must subset your x and y variables, import the train_test_split function from sci-kit learn, and then use the function. Please review the course content on holdout samples as needed before proceeding through the rest of the notebook."
   ]
  },
  {
   "cell_type": "code",
   "execution_count": 6,
   "id": "bbcf6e61",
   "metadata": {},
   "outputs": [],
   "source": [
    "# Subset X and y variables\n",
    "penguins_X = penguins[[\"bill_length_mm\", \"gender\", \"species\"]]\n",
    "penguins_y = penguins[[\"body_mass_g\"]]"
   ]
  },
  {
   "cell_type": "code",
   "execution_count": 7,
   "id": "6e0729e6",
   "metadata": {},
   "outputs": [],
   "source": [
    "# Import train-test-split function from sci-kit learn\n",
    "from sklearn.model_selection import train_test_split"
   ]
  },
  {
   "cell_type": "code",
   "execution_count": 8,
   "id": "65c088dc",
   "metadata": {},
   "outputs": [],
   "source": [
    "# Create training data sets and holdout (testing) data sets\n",
    "X_train, X_test, y_train, y_test = train_test_split(penguins_X, penguins_y, \n",
    "                                                    test_size = 0.3, random_state = 42)"
   ]
  },
  {
   "cell_type": "markdown",
   "id": "3210d4ad",
   "metadata": {},
   "source": [
    "Model construction\n",
    "Recall that we have explored the penguin dataset before. Earlier, we used scatterplots to perform exploratory data anlysis, and we identified linear relationships between the following variables:\n",
    "\n",
    "bill length (mm) and flipper length (mm)\n",
    "bill length (mm) and body mass (g)\n",
    "flipper length (mm) and body mass (g)\n",
    "In this part of the course, we'll focus on understanding some of the variables' relationships with body mass (g). We'll use one continuous X variable, bill length (mm), and the two categorical variables, gender and species.\n",
    "\n",
    "First, we have to write out the formula as a string. Recall that we write out the name of the y variable first, followed by the tilde (~), and then each of the X variables separated by a plus sign (+). We can use C() to indicate a categorical variable. This will tell the ols() function to one hot encode those variables in the model. Please review the previous course materials as needed to review how and why we code categorical variables for regression."
   ]
  },
  {
   "cell_type": "code",
   "execution_count": 9,
   "id": "7a4d0f92",
   "metadata": {},
   "outputs": [],
   "source": [
    "# Write out OLS formula as a string\n",
    "ols_formula = \"body_mass_g ~ bill_length_mm + C(gender) + C(species)\""
   ]
  },
  {
   "cell_type": "code",
   "execution_count": 10,
   "id": "ed1190fd",
   "metadata": {},
   "outputs": [],
   "source": [
    "# Import ols() function from statsmodels package\n",
    "from statsmodels.formula.api import ols"
   ]
  },
  {
   "cell_type": "markdown",
   "id": "1c000492",
   "metadata": {},
   "source": [
    "After we've imported the ols() function, we can save the ols_data as a dataframe, create the ols object, fit the model, and generate summary statistics. At this point, it would make sense to double check the model assumptions about errors (homoscedasticity and normality of residuals). Please review other resources in the program as needed."
   ]
  },
  {
   "cell_type": "code",
   "execution_count": 11,
   "id": "40d95218",
   "metadata": {},
   "outputs": [],
   "source": [
    "# Create OLS dataframe\n",
    "ols_data = pd.concat([X_train, y_train], axis = 1)\n",
    "\n",
    "# Create OLS object and fit the model\n",
    "OLS = ols(formula = ols_formula, data = ols_data)\n",
    "model = OLS.fit()"
   ]
  },
  {
   "cell_type": "markdown",
   "id": "b0902033",
   "metadata": {},
   "source": [
    "Model evaluation and interpretation\n",
    "Use the .summary() function to get a summary table of model results and statistics.\n",
    "\n",
    "Once we have our summary table, we can interpret and evaluate the model. In the upper half of the table, we get several summary statistics. We'll focus on R-squared, which tells us how much variation in body mass (g) is explained by the model. An R-squared of 0.85 is fairly high, and this means that 85% of the variation in body mass (g) is explained by the model.\n",
    "\n",
    "Turning to the lower half of the table, we get the beta coefficients estimated by the model and their corresponding 95% confidence intervals and p-values. Based on the p-value column, labeled P>|t|, we can tell that all of the X variables are statistically significant, since the p-value is less than 0.05 for every X variable."
   ]
  },
  {
   "cell_type": "code",
   "execution_count": 12,
   "id": "4e09b0ca",
   "metadata": {},
   "outputs": [
    {
     "data": {
      "text/html": [
       "<table class=\"simpletable\">\n",
       "<caption>OLS Regression Results</caption>\n",
       "<tr>\n",
       "  <th>Dep. Variable:</th>       <td>body_mass_g</td>   <th>  R-squared:         </th> <td>   0.850</td>\n",
       "</tr>\n",
       "<tr>\n",
       "  <th>Model:</th>                   <td>OLS</td>       <th>  Adj. R-squared:    </th> <td>   0.847</td>\n",
       "</tr>\n",
       "<tr>\n",
       "  <th>Method:</th>             <td>Least Squares</td>  <th>  F-statistic:       </th> <td>   322.6</td>\n",
       "</tr>\n",
       "<tr>\n",
       "  <th>Date:</th>             <td>Thu, 20 Jun 2024</td> <th>  Prob (F-statistic):</th> <td>1.31e-92</td>\n",
       "</tr>\n",
       "<tr>\n",
       "  <th>Time:</th>                 <td>21:56:27</td>     <th>  Log-Likelihood:    </th> <td> -1671.7</td>\n",
       "</tr>\n",
       "<tr>\n",
       "  <th>No. Observations:</th>      <td>   233</td>      <th>  AIC:               </th> <td>   3353.</td>\n",
       "</tr>\n",
       "<tr>\n",
       "  <th>Df Residuals:</th>          <td>   228</td>      <th>  BIC:               </th> <td>   3371.</td>\n",
       "</tr>\n",
       "<tr>\n",
       "  <th>Df Model:</th>              <td>     4</td>      <th>                     </th>     <td> </td>   \n",
       "</tr>\n",
       "<tr>\n",
       "  <th>Covariance Type:</th>      <td>nonrobust</td>    <th>                     </th>     <td> </td>   \n",
       "</tr>\n",
       "</table>\n",
       "<table class=\"simpletable\">\n",
       "<tr>\n",
       "             <td></td>                <th>coef</th>     <th>std err</th>      <th>t</th>      <th>P>|t|</th>  <th>[0.025</th>    <th>0.975]</th>  \n",
       "</tr>\n",
       "<tr>\n",
       "  <th>Intercept</th>               <td> 2032.2111</td> <td>  354.087</td> <td>    5.739</td> <td> 0.000</td> <td> 1334.510</td> <td> 2729.913</td>\n",
       "</tr>\n",
       "<tr>\n",
       "  <th>C(gender)[T.Male]</th>       <td>  528.9508</td> <td>   55.105</td> <td>    9.599</td> <td> 0.000</td> <td>  420.371</td> <td>  637.531</td>\n",
       "</tr>\n",
       "<tr>\n",
       "  <th>C(species)[T.Chinstrap]</th> <td> -285.3865</td> <td>  106.339</td> <td>   -2.684</td> <td> 0.008</td> <td> -494.920</td> <td>  -75.853</td>\n",
       "</tr>\n",
       "<tr>\n",
       "  <th>C(species)[T.Gentoo]</th>    <td> 1081.6246</td> <td>   94.953</td> <td>   11.391</td> <td> 0.000</td> <td>  894.526</td> <td> 1268.723</td>\n",
       "</tr>\n",
       "<tr>\n",
       "  <th>bill_length_mm</th>          <td>   35.5505</td> <td>    9.493</td> <td>    3.745</td> <td> 0.000</td> <td>   16.845</td> <td>   54.256</td>\n",
       "</tr>\n",
       "</table>\n",
       "<table class=\"simpletable\">\n",
       "<tr>\n",
       "  <th>Omnibus:</th>       <td> 0.339</td> <th>  Durbin-Watson:     </th> <td>   1.948</td>\n",
       "</tr>\n",
       "<tr>\n",
       "  <th>Prob(Omnibus):</th> <td> 0.844</td> <th>  Jarque-Bera (JB):  </th> <td>   0.436</td>\n",
       "</tr>\n",
       "<tr>\n",
       "  <th>Skew:</th>          <td> 0.084</td> <th>  Prob(JB):          </th> <td>   0.804</td>\n",
       "</tr>\n",
       "<tr>\n",
       "  <th>Kurtosis:</th>      <td> 2.871</td> <th>  Cond. No.          </th> <td>    798.</td>\n",
       "</tr>\n",
       "</table><br/><br/>Notes:<br/>[1] Standard Errors assume that the covariance matrix of the errors is correctly specified."
      ],
      "text/latex": [
       "\\begin{center}\n",
       "\\begin{tabular}{lclc}\n",
       "\\toprule\n",
       "\\textbf{Dep. Variable:}          &  body\\_mass\\_g   & \\textbf{  R-squared:         } &     0.850   \\\\\n",
       "\\textbf{Model:}                  &       OLS        & \\textbf{  Adj. R-squared:    } &     0.847   \\\\\n",
       "\\textbf{Method:}                 &  Least Squares   & \\textbf{  F-statistic:       } &     322.6   \\\\\n",
       "\\textbf{Date:}                   & Thu, 20 Jun 2024 & \\textbf{  Prob (F-statistic):} &  1.31e-92   \\\\\n",
       "\\textbf{Time:}                   &     21:56:27     & \\textbf{  Log-Likelihood:    } &   -1671.7   \\\\\n",
       "\\textbf{No. Observations:}       &         233      & \\textbf{  AIC:               } &     3353.   \\\\\n",
       "\\textbf{Df Residuals:}           &         228      & \\textbf{  BIC:               } &     3371.   \\\\\n",
       "\\textbf{Df Model:}               &           4      & \\textbf{                     } &             \\\\\n",
       "\\textbf{Covariance Type:}        &    nonrobust     & \\textbf{                     } &             \\\\\n",
       "\\bottomrule\n",
       "\\end{tabular}\n",
       "\\begin{tabular}{lcccccc}\n",
       "                                 & \\textbf{coef} & \\textbf{std err} & \\textbf{t} & \\textbf{P$> |$t$|$} & \\textbf{[0.025} & \\textbf{0.975]}  \\\\\n",
       "\\midrule\n",
       "\\textbf{Intercept}               &    2032.2111  &      354.087     &     5.739  &         0.000        &     1334.510    &     2729.913     \\\\\n",
       "\\textbf{C(gender)[T.Male]}       &     528.9508  &       55.105     &     9.599  &         0.000        &      420.371    &      637.531     \\\\\n",
       "\\textbf{C(species)[T.Chinstrap]} &    -285.3865  &      106.339     &    -2.684  &         0.008        &     -494.920    &      -75.853     \\\\\n",
       "\\textbf{C(species)[T.Gentoo]}    &    1081.6246  &       94.953     &    11.391  &         0.000        &      894.526    &     1268.723     \\\\\n",
       "\\textbf{bill\\_length\\_mm}        &      35.5505  &        9.493     &     3.745  &         0.000        &       16.845    &       54.256     \\\\\n",
       "\\bottomrule\n",
       "\\end{tabular}\n",
       "\\begin{tabular}{lclc}\n",
       "\\textbf{Omnibus:}       &  0.339 & \\textbf{  Durbin-Watson:     } &    1.948  \\\\\n",
       "\\textbf{Prob(Omnibus):} &  0.844 & \\textbf{  Jarque-Bera (JB):  } &    0.436  \\\\\n",
       "\\textbf{Skew:}          &  0.084 & \\textbf{  Prob(JB):          } &    0.804  \\\\\n",
       "\\textbf{Kurtosis:}      &  2.871 & \\textbf{  Cond. No.          } &     798.  \\\\\n",
       "\\bottomrule\n",
       "\\end{tabular}\n",
       "%\\caption{OLS Regression Results}\n",
       "\\end{center}\n",
       "\n",
       "Notes: \\newline\n",
       " [1] Standard Errors assume that the covariance matrix of the errors is correctly specified."
      ],
      "text/plain": [
       "<class 'statsmodels.iolib.summary.Summary'>\n",
       "\"\"\"\n",
       "                            OLS Regression Results                            \n",
       "==============================================================================\n",
       "Dep. Variable:            body_mass_g   R-squared:                       0.850\n",
       "Model:                            OLS   Adj. R-squared:                  0.847\n",
       "Method:                 Least Squares   F-statistic:                     322.6\n",
       "Date:                Thu, 20 Jun 2024   Prob (F-statistic):           1.31e-92\n",
       "Time:                        21:56:27   Log-Likelihood:                -1671.7\n",
       "No. Observations:                 233   AIC:                             3353.\n",
       "Df Residuals:                     228   BIC:                             3371.\n",
       "Df Model:                           4                                         \n",
       "Covariance Type:            nonrobust                                         \n",
       "===========================================================================================\n",
       "                              coef    std err          t      P>|t|      [0.025      0.975]\n",
       "-------------------------------------------------------------------------------------------\n",
       "Intercept                2032.2111    354.087      5.739      0.000    1334.510    2729.913\n",
       "C(gender)[T.Male]         528.9508     55.105      9.599      0.000     420.371     637.531\n",
       "C(species)[T.Chinstrap]  -285.3865    106.339     -2.684      0.008    -494.920     -75.853\n",
       "C(species)[T.Gentoo]     1081.6246     94.953     11.391      0.000     894.526    1268.723\n",
       "bill_length_mm             35.5505      9.493      3.745      0.000      16.845      54.256\n",
       "==============================================================================\n",
       "Omnibus:                        0.339   Durbin-Watson:                   1.948\n",
       "Prob(Omnibus):                  0.844   Jarque-Bera (JB):                0.436\n",
       "Skew:                           0.084   Prob(JB):                        0.804\n",
       "Kurtosis:                       2.871   Cond. No.                         798.\n",
       "==============================================================================\n",
       "\n",
       "Notes:\n",
       "[1] Standard Errors assume that the covariance matrix of the errors is correctly specified.\n",
       "\"\"\""
      ]
     },
     "execution_count": 12,
     "metadata": {},
     "output_type": "execute_result"
    }
   ],
   "source": [
    "# Get model results\n",
    "model.summary()"
   ]
  },
  {
   "cell_type": "markdown",
   "id": "cab54b2e",
   "metadata": {},
   "source": [
    "We can then interpret each of the beta coefficients for each X variable.\n",
    "\n",
    "C(gender) - Male\n",
    "Given the name of the variable, we know that the variable was encoded as Male = 1, Female = 0. This means that female penguins are the reference point. If all other variables are constant, then we would expect a male penguin's body mass to be about 528.95 grams more than a female penguin's body mass.\n",
    "\n",
    "C(species) - Chinstrap and Gentoo\n",
    "Given the names of these two variables, we know that Adelie penguins are the reference point. So, if we compare an Adelie penguin and a Chinstrap penguin, who have the same characteristics except their species, we would expect the Chinstrap penguin to have a body mass of about 285.39 grams less than the Adelie penguin. If we compare an Adelie penguin and a Gentoo penguin, who have the same characteristics except their species, we would expect the Gentoo penguin to have a body mass of about 1,081.62 grams more than the Adelie penguin.\n",
    "\n",
    "Bill length (mm)\n",
    "Lastly, bill length (mm) is a continuous variable, so if we compare two penguins who have the same characteristics, except one penguin's bill is 1 millimeter longer, we would expect the penguin with the longer bill to have 35.55 grams more body mass than the penguin with the shorter bill.\n",
    "\n",
    "Congratulations! You've completed this lab. However, you may not notice a green check mark next to this item on Coursera's platform. Please continue your progress regardless of the check mark. Just click on the \"save\" icon at the top of this notebook to ensure your work has been logged.\n",
    "\n",
    "You now understand how to build a multiple linear regression model with Python. Going forward, you can start using multiple linear regression models with your own datasets."
   ]
  }
 ],
 "metadata": {
  "kernelspec": {
   "display_name": "Python 3 (ipykernel)",
   "language": "python",
   "name": "python3"
  },
  "language_info": {
   "codemirror_mode": {
    "name": "ipython",
    "version": 3
   },
   "file_extension": ".py",
   "mimetype": "text/x-python",
   "name": "python",
   "nbconvert_exporter": "python",
   "pygments_lexer": "ipython3",
   "version": "3.11.5"
  }
 },
 "nbformat": 4,
 "nbformat_minor": 5
}
