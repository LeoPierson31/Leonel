{
 "cells": [
  {
   "cell_type": "markdown",
   "metadata": {
    "id": "UmuVmovsUhYA"
   },
   "source": [
    "# Required KPIS"
   ]
  },
  {
   "cell_type": "code",
   "execution_count": null,
   "metadata": {
    "colab": {
     "base_uri": "https://localhost:8080/"
    },
    "id": "hrCL-joAeXgS",
    "outputId": "6a05ec0d-e32b-4b13-a08e-ab378cc3c834"
   },
   "outputs": [
    {
     "name": "stdout",
     "output_type": "stream",
     "text": [
      "Recovered accounts: 253.125\n",
      "Recovered total debt: 253125.0\n",
      "Revenue from collected interest: 37968.75\n",
      "Total campaign cost: 20250\n",
      "DQ losses from uncollected debt: 358593.75\n",
      "Collections income: 396562.5\n"
     ]
    }
   ],
   "source": [
    "# Constants\n",
    "total_dq_customers = 675\n",
    "contact_rate = 0.5\n",
    "recovery_rate_if_contacted = 0.75\n",
    "loan_amount = 1000\n",
    "interest_rate = 0.15\n",
    "call_cost_per_customer = 30\n",
    "\n",
    "# Calculate recovered accounts\n",
    "overall_recovery_rate = contact_rate * recovery_rate_if_contacted\n",
    "recovered_accounts = total_dq_customers * overall_recovery_rate\n",
    "\n",
    "# Calculate recovered debt\n",
    "recovered_debt = recovered_accounts * loan_amount\n",
    "\n",
    "# Calculate revenue from collected interest\n",
    "collected_interest = recovered_accounts * loan_amount * interest_rate\n",
    "\n",
    "# Calculate total campaign cost\n",
    "total_campaign_cost = total_dq_customers * call_cost_per_customer\n",
    "\n",
    "# Calculate DQ losses from uncollected debt\n",
    "uncollected_debt = total_dq_customers * loan_amount - recovered_debt\n",
    "dq_losses = uncollected_debt * (1 - interest_rate)\n",
    "\n",
    "# Calculate collections income\n",
    "collections_income = collected_interest + dq_losses\n",
    "\n",
    "# Print results\n",
    "print(\"Recovered accounts:\", recovered_accounts)\n",
    "print(\"Recovered total debt:\", recovered_debt)\n",
    "print(\"Revenue from collected interest:\", collected_interest)\n",
    "print(\"Total campaign cost:\", total_campaign_cost)\n",
    "print(\"DQ losses from uncollected debt:\", dq_losses)\n",
    "print(\"Collections income:\", collections_income)"
   ]
  }
 ],
 "metadata": {
  "colab": {
   "provenance": []
  },
  "kernelspec": {
   "display_name": "Python 3 (ipykernel)",
   "language": "python",
   "name": "python3"
  },
  "language_info": {
   "codemirror_mode": {
    "name": "ipython",
    "version": 3
   },
   "file_extension": ".py",
   "mimetype": "text/x-python",
   "name": "python",
   "nbconvert_exporter": "python",
   "pygments_lexer": "ipython3",
   "version": "3.11.5"
  }
 },
 "nbformat": 4,
 "nbformat_minor": 1
}
