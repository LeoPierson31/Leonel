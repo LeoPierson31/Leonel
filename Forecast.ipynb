{
 "cells": [
  {
   "cell_type": "markdown",
   "id": "c91aaf60",
   "metadata": {},
   "source": [
    " # BUSSINESS CASE 1"
   ]
  },
  {
   "cell_type": "code",
   "execution_count": null,
   "id": "f0425dad",
   "metadata": {},
   "outputs": [],
   "source": [
    "import numpy as np\n",
    "import matplotlib.pyplot as plt\n",
    "import pandas as pd"
   ]
  },
  {
   "cell_type": "code",
   "execution_count": 55,
   "id": "863dcef9",
   "metadata": {},
   "outputs": [],
   "source": [
    "# Calculate the Revenue\n",
    "def Revenue(Custumers,Loan,IRate,DQRate,MensualG):\n",
    "    a = np.array(range(0, 12))\n",
    "    \n",
    "    for i in range(12):\n",
    "        a[i]=Custumers*Loan*IRate*(1-DQRate)\n",
    "        Custumers= round(Custumers+ (Custumers*MensualG),0)\n",
    "    return  a\n",
    "# Calculate the operational Cost\n",
    "def OpCost(Custumers):\n",
    "    b = np.array(range(0, 12))\n",
    "    \n",
    "    for i in range(12):\n",
    "        b[i]=Custumers*30\n",
    "        Custumers= round(Custumers+ (Custumers*MensualG),0)\n",
    "    return  b\n"
   ]
  },
  {
   "cell_type": "code",
   "execution_count": 65,
   "id": "1df74bfb",
   "metadata": {},
   "outputs": [],
   "source": [
    "ContigoB= Revenue(10000,2000,0.10,0.08,0.1)\n",
    "ContigoA= Revenue(5000,1000,0.15,0.135,0.25)\n",
    "NETINCOMEA=ContigoA-OpCost(5000)\n",
    "NETINCOMEB=ContigoB-OpCost(10000)\n"
   ]
  },
  {
   "cell_type": "code",
   "execution_count": 66,
   "id": "6b15d6ca",
   "metadata": {},
   "outputs": [
    {
     "data": {
      "text/plain": [
       "array([1118750, 1327937, 1582371, 1892659, 2271989, 2736767, 3307418,\n",
       "       4009378, 4874338, 5941799, 7261015, 8893409])"
      ]
     },
     "execution_count": 66,
     "metadata": {},
     "output_type": "execute_result"
    }
   ],
   "source": [
    "# Calculate NET INCOMES\n",
    "NETINOME=NETINCOMEA+NETINCOMEB\n",
    "NETINCOME"
   ]
  },
  {
   "cell_type": "code",
   "execution_count": 67,
   "id": "902aed56",
   "metadata": {},
   "outputs": [
    {
     "data": {
      "text/plain": [
       "Text(0.5, 1.0, 'NET INCOME')"
      ]
     },
     "execution_count": 67,
     "metadata": {},
     "output_type": "execute_result"
    },
    {
     "data": {
      "image/png": "[encoded data removed]",
      "text/plain": [
       "<Figure size 640x480 with 1 Axes>"
      ]
     },
     "metadata": {},
     "output_type": "display_data"
    }
   ],
   "source": [
    "# Graph\n",
    "names = [1,2,3,4,5,6,7,8,9,10,11,12]\n",
    "valor=NETINCOME\n",
    "plt.plot(names,valor)\n",
    "plt.title('NET INCOME')"
   ]
  },
  {
   "cell_type": "markdown",
   "id": "ab8921a6",
   "metadata": {},
   "source": [
    " # BUSSINESS CASE 2"
   ]
  },
  {
   "cell_type": "code",
   "execution_count": 76,
   "id": "f8e8aae9",
   "metadata": {},
   "outputs": [
    {
     "data": {
      "text/plain": [
       "(675, 4)"
      ]
     },
     "execution_count": 76,
     "metadata": {},
     "output_type": "execute_result"
    }
   ],
   "source": [
    "#ReadDataBase\n",
    "df=pd.read_csv(\"contactability_scores.csv\") \n",
    "df.head(10)\n",
    "shape = df.shape\n",
    "shape\n"
   ]
  },
  {
   "cell_type": "code",
   "execution_count": 77,
   "id": "deabacae",
   "metadata": {},
   "outputs": [
    {
     "data": {
      "text/html": [
       "<div>\n",
       "<style scoped>\n",
       "    .dataframe tbody tr th:only-of-type {\n",
       "        vertical-align: middle;\n",
       "    }\n",
       "\n",
       "    .dataframe tbody tr th {\n",
       "        vertical-align: top;\n",
       "    }\n",
       "\n",
       "    .dataframe thead th {\n",
       "        text-align: right;\n",
       "    }\n",
       "</style>\n",
       "<table border=\"1\" class=\"dataframe\">\n",
       "  <thead>\n",
       "    <tr style=\"text-align: right;\">\n",
       "      <th></th>\n",
       "      <th>customer_id</th>\n",
       "      <th>contactability_score</th>\n",
       "      <th>total_debt</th>\n",
       "      <th>interest</th>\n",
       "    </tr>\n",
       "  </thead>\n",
       "  <tbody>\n",
       "    <tr>\n",
       "      <th>0</th>\n",
       "      <td>1</td>\n",
       "      <td>0.293</td>\n",
       "      <td>1000</td>\n",
       "      <td>150</td>\n",
       "    </tr>\n",
       "    <tr>\n",
       "      <th>1</th>\n",
       "      <td>2</td>\n",
       "      <td>0.250</td>\n",
       "      <td>1000</td>\n",
       "      <td>150</td>\n",
       "    </tr>\n",
       "    <tr>\n",
       "      <th>2</th>\n",
       "      <td>3</td>\n",
       "      <td>0.033</td>\n",
       "      <td>1000</td>\n",
       "      <td>150</td>\n",
       "    </tr>\n",
       "    <tr>\n",
       "      <th>3</th>\n",
       "      <td>4</td>\n",
       "      <td>0.239</td>\n",
       "      <td>1000</td>\n",
       "      <td>150</td>\n",
       "    </tr>\n",
       "    <tr>\n",
       "      <th>4</th>\n",
       "      <td>5</td>\n",
       "      <td>0.681</td>\n",
       "      <td>1000</td>\n",
       "      <td>150</td>\n",
       "    </tr>\n",
       "    <tr>\n",
       "      <th>5</th>\n",
       "      <td>6</td>\n",
       "      <td>0.236</td>\n",
       "      <td>1000</td>\n",
       "      <td>150</td>\n",
       "    </tr>\n",
       "    <tr>\n",
       "      <th>6</th>\n",
       "      <td>7</td>\n",
       "      <td>0.538</td>\n",
       "      <td>1000</td>\n",
       "      <td>150</td>\n",
       "    </tr>\n",
       "    <tr>\n",
       "      <th>7</th>\n",
       "      <td>8</td>\n",
       "      <td>0.215</td>\n",
       "      <td>1000</td>\n",
       "      <td>150</td>\n",
       "    </tr>\n",
       "    <tr>\n",
       "      <th>8</th>\n",
       "      <td>9</td>\n",
       "      <td>0.012</td>\n",
       "      <td>1000</td>\n",
       "      <td>150</td>\n",
       "    </tr>\n",
       "    <tr>\n",
       "      <th>9</th>\n",
       "      <td>10</td>\n",
       "      <td>0.416</td>\n",
       "      <td>1000</td>\n",
       "      <td>150</td>\n",
       "    </tr>\n",
       "  </tbody>\n",
       "</table>\n",
       "</div>"
      ],
      "text/plain": [
       "   customer_id  contactability_score  total_debt  interest\n",
       "0            1                 0.293        1000       150\n",
       "1            2                 0.250        1000       150\n",
       "2            3                 0.033        1000       150\n",
       "3            4                 0.239        1000       150\n",
       "4            5                 0.681        1000       150\n",
       "5            6                 0.236        1000       150\n",
       "6            7                 0.538        1000       150\n",
       "7            8                 0.215        1000       150\n",
       "8            9                 0.012        1000       150\n",
       "9           10                 0.416        1000       150"
      ]
     },
     "execution_count": 77,
     "metadata": {},
     "output_type": "execute_result"
    }
   ],
   "source": [
    "df.head(10)\n"
   ]
  },
  {
   "cell_type": "code",
   "execution_count": 92,
   "id": "aa966c95",
   "metadata": {},
   "outputs": [
    {
     "data": {
      "text/plain": [
       "contactability_score    0.418813\n",
       "dtype: float64"
      ]
     },
     "execution_count": 92,
     "metadata": {},
     "output_type": "execute_result"
    }
   ],
   "source": [
    "debt=df[['total_debt']].mean()\n",
    "debt\n",
    "Contac=df[['contactability_score']].sum()/675\n",
    "Contac"
   ]
  },
  {
   "cell_type": "markdown",
   "id": "2cdbb40e",
   "metadata": {},
   "source": [
    "# Required KPIS"
   ]
  },
  {
   "cell_type": "code",
   "execution_count": 90,
   "id": "9cf11b3b",
   "metadata": {},
   "outputs": [],
   "source": [
    "TotalDQCustomers = 675\n",
    "ContactRate = 0.418813\n",
    "RecoveryRateContacted = 0.75\n",
    "Loan = 1000\n",
    "IRate= 0.15\n",
    "CallCostPerCustomer = 30\n",
    "\n",
    "# Calculate recovered accounts\n",
    "\n",
    "OverallRecovery_rate = ContactRate * RecoveryRateContacted\n",
    "recovered_accounts = TotalDQCustomers * OverallRecovery_rate"
   ]
  },
  {
   "cell_type": "code",
   "execution_count": 91,
   "id": "9f23c978",
   "metadata": {},
   "outputs": [
    {
     "name": "stdout",
     "output_type": "stream",
     "text": [
      "Recovered accounts: 212.01749999999998\n",
      "Recovered total debt: 212017.49999999997\n",
      "Revenue from collected interest: 31802.624999999993\n",
      "Total campaign cost: 20250\n",
      "DQ losses from uncollected debt: 393535.125\n",
      "Collections income: 425337.75\n"
     ]
    }
   ],
   "source": [
    "# Calculate recovered debt\n",
    "recovered_debt = recovered_accounts * Loan\n",
    "\n",
    "# Calculate revenue from collected interest\n",
    "collected_interest = recovered_accounts *Loan* IRate\n",
    "\n",
    "# Calculate total campaign cost\n",
    "total_campaign_cost = TotalDQCustomers*CallCostPerCustomer\n",
    "\n",
    "# Calculate DQ losses from uncollected debt\n",
    "uncollected_debt = TotalDQCustomers*Loan - recovered_debt\n",
    "dq_losses = uncollected_debt * (1 - IRate)\n",
    "# Calculate collections income\n",
    "collections_income = collected_interest + dq_losses\n",
    "\n",
    "# Print results\n",
    "print(\"Recovered accounts:\", recovered_accounts)\n",
    "print(\"Recovered total debt:\", recovered_debt)\n",
    "print(\"Revenue from collected interest:\", collected_interest)\n",
    "print(\"Total campaign cost:\", total_campaign_cost)\n",
    "print(\"DQ losses from uncollected debt:\", dq_losses)\n",
    "print(\"Collections income:\", collections_income)\n"
   ]
  },
  {
   "cell_type": "code",
   "execution_count": null,
   "id": "6e8b01e8",
   "metadata": {},
   "outputs": [],
   "source": []
  },
  {
   "cell_type": "code",
   "execution_count": null,
   "id": "495a76c8",
   "metadata": {},
   "outputs": [],
   "source": [
    "\n"
   ]
  }
 ],
 "metadata": {
  "kernelspec": {
   "display_name": "Python 3 (ipykernel)",
   "language": "python",
   "name": "python3"
  },
  "language_info": {
   "codemirror_mode": {
    "name": "ipython",
    "version": 3
   },
   "file_extension": ".py",
   "mimetype": "text/x-python",
   "name": "python",
   "nbconvert_exporter": "python",
   "pygments_lexer": "ipython3",
   "version": "3.11.5"
  }
 },
 "nbformat": 4,
 "nbformat_minor": 5
}
